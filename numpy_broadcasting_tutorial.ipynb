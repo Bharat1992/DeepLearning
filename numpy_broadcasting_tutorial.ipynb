{
  "nbformat": 4,
  "nbformat_minor": 0,
  "metadata": {
    "colab": {
      "name": "numpy-broadcasting-tutorial.ipynb",
      "version": "0.3.2",
      "provenance": [],
      "include_colab_link": true
    },
    "kernelspec": {
      "name": "python3",
      "display_name": "Python 3"
    }
  },
  "cells": [
    {
      "cell_type": "markdown",
      "metadata": {
        "id": "view-in-github",
        "colab_type": "text"
      },
      "source": [
        "<a href=\"https://colab.research.google.com/github/Bharat1992/DeepLearning/blob/master/numpy_broadcasting_tutorial.ipynb\" target=\"_parent\"><img src=\"https://colab.research.google.com/assets/colab-badge.svg\" alt=\"Open In Colab\"/></a>"
      ]
    },
    {
      "metadata": {
        "id": "WDjSWpl9hc1X",
        "colab_type": "code",
        "colab": {
          "base_uri": "https://localhost:8080/",
          "height": 134
        },
        "outputId": "7b21461c-f5f2-4210-f84c-21a7fa6a9f0a"
      },
      "cell_type": "code",
      "source": [
        "import numpy as np\n",
        "\n",
        "A = np.array([[56.0, 0.0, 4.4, 68.0],\n",
        "               [1.2, 104.0, 52.0, 8.0],\n",
        "               [1.8, 135.0, 99.0, 0.9]])\n",
        "\n",
        "print(A)\n",
        "\n",
        "cal = A.sum(axis=0)\n",
        "print(cal)\n",
        "\n",
        "#broadcasting here\n",
        "#we are able to device 3x4 matrix with a row vector of 4 length\n",
        "\n",
        "#rule (m,n) +/-* (1,n) ~~ (m,n) +/-* (m,n)\n",
        "percentage = 100*A/cal.reshape(1,4)\n",
        "print(percentage)"
      ],
      "execution_count": 9,
      "outputs": [
        {
          "output_type": "stream",
          "text": [
            "[[ 56.    0.    4.4  68. ]\n",
            " [  1.2 104.   52.    8. ]\n",
            " [  1.8 135.   99.    0.9]]\n",
            "[ 59.  239.  155.4  76.9]\n",
            "[[94.91525424  0.          2.83140283 88.42652796]\n",
            " [ 2.03389831 43.51464435 33.46203346 10.40312094]\n",
            " [ 3.05084746 56.48535565 63.70656371  1.17035111]]\n"
          ],
          "name": "stdout"
        }
      ]
    },
    {
      "metadata": {
        "id": "Hm9E3ujKpYGb",
        "colab_type": "code",
        "colab": {
          "base_uri": "https://localhost:8080/",
          "height": 134
        },
        "outputId": "19a359de-67eb-4248-e114-cbd48fe17a1a"
      },
      "cell_type": "code",
      "source": [
        "B = np.random.randn(5) # rank 1 array\n",
        "print(B)\n",
        "\n",
        "C = np.random.randn(5,1) #column vector with 5 rows\n",
        "print(C)\n",
        "\n",
        "D = np.random.randn(1,5) # row vector with 5 columns\n",
        "print(D)"
      ],
      "execution_count": 12,
      "outputs": [
        {
          "output_type": "stream",
          "text": [
            "[ 0.35156927  1.03869967  0.27467011  0.42447648 -0.75168848]\n",
            "[[ 0.66794414]\n",
            " [ 0.35884943]\n",
            " [-0.63495065]\n",
            " [-0.86307728]\n",
            " [-0.37633864]]\n",
            "[[ 0.79552101  1.00290708  0.06167303 -1.00005915 -0.3559974 ]]\n"
          ],
          "name": "stdout"
        }
      ]
    },
    {
      "metadata": {
        "id": "FXqu-Jjtpejo",
        "colab_type": "code",
        "colab": {}
      },
      "cell_type": "code",
      "source": [
        ""
      ],
      "execution_count": 0,
      "outputs": []
    }
  ]
}