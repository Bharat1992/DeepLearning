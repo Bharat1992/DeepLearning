{
  "nbformat": 4,
  "nbformat_minor": 0,
  "metadata": {
    "colab": {
      "name": "FashionObjects.ipynb",
      "version": "0.3.2",
      "provenance": [],
      "collapsed_sections": [],
      "include_colab_link": true
    },
    "kernelspec": {
      "name": "python3",
      "display_name": "Python 3"
    }
  },
  "cells": [
    {
      "cell_type": "markdown",
      "metadata": {
        "id": "view-in-github",
        "colab_type": "text"
      },
      "source": [
        "<a href=\"https://colab.research.google.com/github/Bharat1992/DeepLearning/blob/master/FashionObjects.ipynb\" target=\"_parent\"><img src=\"https://colab.research.google.com/assets/colab-badge.svg\" alt=\"Open In Colab\"/></a>"
      ]
    },
    {
      "metadata": {
        "id": "bwI1NaRalUvl",
        "colab_type": "code",
        "outputId": "a1676824-579f-46c1-c2e5-11f824ef3058",
        "colab": {
          "base_uri": "https://localhost:8080/",
          "height": 269
        }
      },
      "cell_type": "code",
      "source": [
        "import tensorflow as tf\n",
        "print(tf.__version__)\n",
        "\n",
        "\n",
        "class myCallback(tf.keras.callbacks.Callback):\n",
        "  def on_epoch_end(self, epoch, logs={}):\n",
        "    print(\"\\n Inside the callback\")\n",
        "    if(logs.get('acc') > 0.95):\n",
        "      print(\"\\n Reached to an Accuracy above 95% so stoppping the training\")\n",
        "      self.model.stop_training = True\n",
        "\n",
        "callbacks = myCallback()\n",
        "\n",
        "mnist = tf.keras.datasets.mnist\n",
        "\n",
        "(training_images, training_labels) ,  (test_images, test_labels) = mnist.load_data()\n",
        "\n",
        "training_images = training_images/255.0\n",
        "test_images = test_images/255.0\n",
        "\n",
        "model = tf.keras.models.Sequential([tf.keras.layers.Flatten(),\n",
        "                                    tf.keras.layers.Dense(1024, activation=tf.nn.relu),\n",
        "                                    tf.keras.layers.Dense(10, activation=tf.nn.softmax)])\n",
        "\n",
        "model.compile(optimizer= tf.train.AdamOptimizer(), \n",
        "              loss=\"sparse_categorical_crossentropy\", \n",
        "              metrics=['accuracy'])\n",
        "\n",
        "model.fit(training_images, training_labels, epochs=5, callbacks=[callbacks])\n",
        "\n",
        "model.evaluate(test_images, test_labels)\n",
        "\n",
        "classifications = model.predict(test_images)\n",
        "\n",
        "print(classifications[0])\n",
        "print(test_labels[0])"
      ],
      "execution_count": 9,
      "outputs": [
        {
          "output_type": "stream",
          "text": [
            "1.13.1\n",
            "Epoch 1/5\n",
            "59904/60000 [============================>.] - ETA: 0s - loss: 0.1862 - acc: 0.9445\n",
            " Inside the callback\n",
            "60000/60000 [==============================] - 15s 253us/sample - loss: 0.1861 - acc: 0.9446\n",
            "Epoch 2/5\n",
            "59840/60000 [============================>.] - ETA: 0s - loss: 0.0765 - acc: 0.9763\n",
            " Inside the callback\n",
            "\n",
            " Reached to an Accuracy above 95% so stoppping the training\n",
            "60000/60000 [==============================] - 15s 249us/sample - loss: 0.0764 - acc: 0.9763\n",
            "10000/10000 [==============================] - 1s 104us/sample - loss: 0.0618 - acc: 0.9792\n",
            "[7.0918156e-07 2.8104193e-07 7.4551659e-05 4.0660144e-04 9.3095497e-11\n",
            " 1.2388509e-06 1.4384138e-10 9.9949241e-01 2.0327047e-06 2.2027660e-05]\n",
            "7\n"
          ],
          "name": "stdout"
        }
      ]
    },
    {
      "metadata": {
        "id": "aQfAG-BzRxh1",
        "colab_type": "code",
        "colab": {}
      },
      "cell_type": "code",
      "source": [
        ""
      ],
      "execution_count": 0,
      "outputs": []
    }
  ]
}